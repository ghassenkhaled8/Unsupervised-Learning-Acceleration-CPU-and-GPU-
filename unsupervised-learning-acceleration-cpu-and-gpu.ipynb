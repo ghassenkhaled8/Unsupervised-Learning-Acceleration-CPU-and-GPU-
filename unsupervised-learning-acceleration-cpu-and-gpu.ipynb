{
 "cells": [
  {
   "cell_type": "markdown",
   "id": "01a9d486",
   "metadata": {
    "id": "z4haAYjoSGBM",
    "papermill": {
     "duration": 0.003482,
     "end_time": "2025-02-05T12:15:48.116298",
     "exception": false,
     "start_time": "2025-02-05T12:15:48.112816",
     "status": "completed"
    },
    "tags": []
   },
   "source": [
    "### Part 1. KMeans with CPU"
   ]
  },
  {
   "cell_type": "markdown",
   "id": "47d5b8c3",
   "metadata": {
    "id": "VRlTbjIvSqHM",
    "papermill": {
     "duration": 0.002653,
     "end_time": "2025-02-05T12:15:48.122058",
     "exception": false,
     "start_time": "2025-02-05T12:15:48.119405",
     "status": "completed"
    },
    "tags": []
   },
   "source": [
    "#### Q1. Read the five provided datasets\n",
    "\n",
    "Read the five provided datasets (data{0, 1, 2, 3, 4}.csv) using `pandas.read_csv()` and save the data to `pandas.DataFrame` variables. "
   ]
  },
  {
   "cell_type": "code",
   "execution_count": 1,
   "id": "25ba721a",
   "metadata": {
    "execution": {
     "iopub.execute_input": "2025-02-05T12:15:48.129196Z",
     "iopub.status.busy": "2025-02-05T12:15:48.128840Z",
     "iopub.status.idle": "2025-02-05T12:15:50.071508Z",
     "shell.execute_reply": "2025-02-05T12:15:50.070343Z"
    },
    "id": "ot1_FujnRjKf",
    "outputId": "1168e816-46ba-42f4-ee6d-17902af35b0c",
    "papermill": {
     "duration": 1.948829,
     "end_time": "2025-02-05T12:15:50.073537",
     "exception": false,
     "start_time": "2025-02-05T12:15:48.124708",
     "status": "completed"
    },
    "tags": []
   },
   "outputs": [
    {
     "name": "stdout",
     "output_type": "stream",
     "text": [
      "[Pandas] Reading data0.csv (25000 lines) takes 26.485 millisec\n",
      "[Pandas] Reading data1.csv (63115 lines) takes 44.143 millisec\n",
      "[Pandas] Reading data2.csv (200000 lines) takes 112.314 millisec\n",
      "[Pandas] Reading data3.csv (300000 lines) takes 188.557 millisec\n",
      "[Pandas] Reading data4.csv (1419554 lines) takes 752.735 millisec\n"
     ]
    }
   ],
   "source": [
    "import pandas as pd\n",
    "from time import time\n",
    "\n",
    "# TODO: Read the five datasets using pd.read_csv()\n",
    "\n",
    "dfs = []\n",
    "pd_running_times = []\n",
    "for i in range(5):\n",
    "  \n",
    "  tic = time()\n",
    "  \n",
    "  file_path = \"/kaggle/input/data-rapids/data{}.csv\".format(i)\n",
    "  df = pd.read_csv(file_path, names=[\"x\", \"y\"])\n",
    "  \n",
    "  toc = time()\n",
    "  \n",
    "  running_time = (toc - tic) * 1000\n",
    "  pd_running_times.append(running_time)\n",
    "  print(\"[Pandas] Reading data%d.csv (%d lines) takes %.3lf millisec\" % (i, len(df), running_time))\n",
    "  dfs.append(df)"
   ]
  },
  {
   "cell_type": "markdown",
   "id": "3269a896",
   "metadata": {
    "id": "HvZm_BBpSwAv",
    "papermill": {
     "duration": 0.002637,
     "end_time": "2025-02-05T12:15:50.079530",
     "exception": false,
     "start_time": "2025-02-05T12:15:50.076893",
     "status": "completed"
    },
    "tags": []
   },
   "source": [
    "#### Q2. Perform KMeans implemented in sklearn\n",
    "\n",
    "Run KMeans clustering with `sklearn.cluster.KMeans`. Measure the running time foor KMeans on each dataset. You can use `time()` function."
   ]
  },
  {
   "cell_type": "code",
   "execution_count": 2,
   "id": "d0d33898",
   "metadata": {
    "execution": {
     "iopub.execute_input": "2025-02-05T12:15:50.086900Z",
     "iopub.status.busy": "2025-02-05T12:15:50.086125Z",
     "iopub.status.idle": "2025-02-05T12:16:13.396990Z",
     "shell.execute_reply": "2025-02-05T12:16:13.395994Z"
    },
    "id": "EWuXkIx3TBYm",
    "outputId": "f3da0151-be72-49b0-d297-526283a57e41",
    "papermill": {
     "duration": 23.316832,
     "end_time": "2025-02-05T12:16:13.399113",
     "exception": false,
     "start_time": "2025-02-05T12:15:50.082281",
     "status": "completed"
    },
    "tags": []
   },
   "outputs": [
    {
     "name": "stderr",
     "output_type": "stream",
     "text": [
      "/opt/conda/lib/python3.10/site-packages/sklearn/cluster/_kmeans.py:870: FutureWarning: The default value of `n_init` will change from 10 to 'auto' in 1.4. Set the value of `n_init` explicitly to suppress the warning\n",
      "  warnings.warn(\n"
     ]
    },
    {
     "name": "stdout",
     "output_type": "stream",
     "text": [
      "[sklearn] KMeans over data0.csv (25000 lines) takes 1471.09151 millisec\n"
     ]
    },
    {
     "name": "stderr",
     "output_type": "stream",
     "text": [
      "/opt/conda/lib/python3.10/site-packages/sklearn/cluster/_kmeans.py:870: FutureWarning: The default value of `n_init` will change from 10 to 'auto' in 1.4. Set the value of `n_init` explicitly to suppress the warning\n",
      "  warnings.warn(\n"
     ]
    },
    {
     "name": "stdout",
     "output_type": "stream",
     "text": [
      "[sklearn] KMeans over data1.csv (63115 lines) takes 1909.45411 millisec\n"
     ]
    },
    {
     "name": "stderr",
     "output_type": "stream",
     "text": [
      "/opt/conda/lib/python3.10/site-packages/sklearn/cluster/_kmeans.py:870: FutureWarning: The default value of `n_init` will change from 10 to 'auto' in 1.4. Set the value of `n_init` explicitly to suppress the warning\n",
      "  warnings.warn(\n"
     ]
    },
    {
     "name": "stdout",
     "output_type": "stream",
     "text": [
      "[sklearn] KMeans over data2.csv (200000 lines) takes 2891.19816 millisec\n"
     ]
    },
    {
     "name": "stderr",
     "output_type": "stream",
     "text": [
      "/opt/conda/lib/python3.10/site-packages/sklearn/cluster/_kmeans.py:870: FutureWarning: The default value of `n_init` will change from 10 to 'auto' in 1.4. Set the value of `n_init` explicitly to suppress the warning\n",
      "  warnings.warn(\n"
     ]
    },
    {
     "name": "stdout",
     "output_type": "stream",
     "text": [
      "[sklearn] KMeans over data3.csv (300000 lines) takes 3063.53021 millisec\n"
     ]
    },
    {
     "name": "stderr",
     "output_type": "stream",
     "text": [
      "/opt/conda/lib/python3.10/site-packages/sklearn/cluster/_kmeans.py:870: FutureWarning: The default value of `n_init` will change from 10 to 'auto' in 1.4. Set the value of `n_init` explicitly to suppress the warning\n",
      "  warnings.warn(\n"
     ]
    },
    {
     "name": "stdout",
     "output_type": "stream",
     "text": [
      "[sklearn] KMeans over data4.csv (1419554 lines) takes 12348.78993 millisec\n"
     ]
    }
   ],
   "source": [
    "from sklearn.cluster import KMeans as sklearnKMeans\n",
    "from time import time\n",
    "\n",
    "# TDOO: Run KMeans using sklearnKMeans and measure the running time on each dataset\n",
    "sklearn_running_times = []\n",
    "for i, df in enumerate(dfs):\n",
    "  \n",
    "  tic = time()\n",
    "  \n",
    "  kmeans_cpu = sklearnKMeans(n_clusters=10, random_state=0)\n",
    "  kmeans_cpu.fit(df)\n",
    "\n",
    "  toc = time()\n",
    "  \n",
    "  running_time = (toc - tic) * 1000\n",
    "  sklearn_running_times.append(running_time)\n",
    "  \n",
    "  print('[sklearn] KMeans over data%d.csv (%d lines) takes %.5lf millisec' % (i, len(df), running_time))"
   ]
  },
  {
   "cell_type": "markdown",
   "id": "22c11e9f",
   "metadata": {
    "id": "G_qSmvAaSjwE",
    "papermill": {
     "duration": 0.004071,
     "end_time": "2025-02-05T12:16:13.406388",
     "exception": false,
     "start_time": "2025-02-05T12:16:13.402317",
     "status": "completed"
    },
    "tags": []
   },
   "source": [
    "### Part 2. KMeans with GPU"
   ]
  },
  {
   "cell_type": "markdown",
   "id": "1c8d96e9",
   "metadata": {
    "id": "g8ftUDOKTVC8",
    "papermill": {
     "duration": 0.002805,
     "end_time": "2025-02-05T12:16:13.412440",
     "exception": false,
     "start_time": "2025-02-05T12:16:13.409635",
     "status": "completed"
    },
    "tags": []
   },
   "source": [
    "#### Q3. Read datasets with cuDF\n",
    "\n",
    "Read the five datasets with `cudf.read_csv()` function in `cuDF` library and save the data into `cudf.DataFrame` variables.\n"
   ]
  },
  {
   "cell_type": "code",
   "execution_count": 3,
   "id": "fd69c352",
   "metadata": {
    "execution": {
     "iopub.execute_input": "2025-02-05T12:16:13.420150Z",
     "iopub.status.busy": "2025-02-05T12:16:13.419752Z",
     "iopub.status.idle": "2025-02-05T12:16:19.725529Z",
     "shell.execute_reply": "2025-02-05T12:16:19.724340Z"
    },
    "id": "eaHo-5B5R0hx",
    "outputId": "9263e350-e876-4dcd-c2b4-a2009f929cd9",
    "papermill": {
     "duration": 6.312175,
     "end_time": "2025-02-05T12:16:19.727690",
     "exception": false,
     "start_time": "2025-02-05T12:16:13.415515",
     "status": "completed"
    },
    "tags": []
   },
   "outputs": [
    {
     "name": "stdout",
     "output_type": "stream",
     "text": [
      "[cuDF] Reading data0.csv (25000 lines) takes 846.204 millisec\n",
      "[cuDF] Reading data1.csv (63115 lines) takes 4.576 millisec\n",
      "[cuDF] Reading data2.csv (200000 lines) takes 7.558 millisec\n",
      "[cuDF] Reading data3.csv (300000 lines) takes 9.168 millisec\n",
      "[cuDF] Reading data4.csv (1419554 lines) takes 28.122 millisec\n"
     ]
    }
   ],
   "source": [
    "import cudf\n",
    "\n",
    "# TODO: Read the five datasets using cudf.read_csv()\n",
    "gdfs = []\n",
    "cudf_running_times = []\n",
    "for i in range(5):\n",
    "  \n",
    "  tic = time()\n",
    "  \n",
    "  file_path = \"/kaggle/input/data-rapids/data{}.csv\".format(i)\n",
    "  gdf = cudf.read_csv(file_path, names=[\"x\", \"y\"])\n",
    "  \n",
    "  toc = time()\n",
    "  \n",
    "  running_time = (toc - tic) * 1000\n",
    "  cudf_running_times.append(running_time)\n",
    "  print(\"[cuDF] Reading data%d.csv (%d lines) takes %.3lf millisec\" % (i, len(gdf), running_time))\n",
    "  gdfs.append(gdf)\n",
    " "
   ]
  },
  {
   "cell_type": "markdown",
   "id": "9e457a24",
   "metadata": {
    "id": "nSTPIquhTqvk",
    "papermill": {
     "duration": 0.003609,
     "end_time": "2025-02-05T12:16:19.735359",
     "exception": false,
     "start_time": "2025-02-05T12:16:19.731750",
     "status": "completed"
    },
    "tags": []
   },
   "source": [
    "#### Q4. Perform KMeans implemented in cuML\n",
    "Perform KMeans clustering implemented in cuML. Measure the running time for KMeans on each dataset. You can use `time()` function."
   ]
  },
  {
   "cell_type": "code",
   "execution_count": 4,
   "id": "dfdf960b",
   "metadata": {
    "execution": {
     "iopub.execute_input": "2025-02-05T12:16:19.744398Z",
     "iopub.status.busy": "2025-02-05T12:16:19.743883Z",
     "iopub.status.idle": "2025-02-05T12:16:25.219815Z",
     "shell.execute_reply": "2025-02-05T12:16:25.218430Z"
    },
    "id": "evSjCKMnLpOb",
    "outputId": "27011ad0-45c9-4892-c3cb-5e1ecac6589b",
    "papermill": {
     "duration": 5.482425,
     "end_time": "2025-02-05T12:16:25.221500",
     "exception": false,
     "start_time": "2025-02-05T12:16:19.739075",
     "status": "completed"
    },
    "tags": []
   },
   "outputs": [
    {
     "name": "stdout",
     "output_type": "stream",
     "text": [
      "[cuML] KMeans over data0.csv (25000 lines) takes 1003.07655 millisec\n",
      "[cuML] KMeans over data1.csv (63115 lines) takes 158.60033 millisec\n",
      "[cuML] KMeans over data2.csv (200000 lines) takes 143.25809 millisec\n",
      "[cuML] KMeans over data3.csv (300000 lines) takes 320.66655 millisec\n",
      "[cuML] KMeans over data4.csv (1419554 lines) takes 1879.43077 millisec\n"
     ]
    }
   ],
   "source": [
    "from cuml.cluster import KMeans as cumlKMeans\n",
    "from time import time\n",
    "\n",
    "# TDOO: Run KMeans using cumlKMeans and measure the running time on each dataset\n",
    "\n",
    "cuml_running_times = []\n",
    "for i, gdf in enumerate(gdfs):\n",
    "  \n",
    "  tic = time()\n",
    "  \n",
    "  kmeans_gpu = cumlKMeans(n_clusters=10, random_state=0)\n",
    "  kmeans_gpu.fit(gdf)\n",
    "\n",
    "  toc = time()\n",
    "  \n",
    "  running_time = (toc - tic) * 1000\n",
    "  cuml_running_times.append(running_time)\n",
    "  \n",
    "  print('[cuML] KMeans over data%d.csv (%d lines) takes %.5lf millisec' % (i, len(gdf), running_time))\n"
   ]
  },
  {
   "cell_type": "markdown",
   "id": "493f285f",
   "metadata": {
    "id": "RlO95LLTtflW",
    "papermill": {
     "duration": 0.00358,
     "end_time": "2025-02-05T12:16:25.228822",
     "exception": false,
     "start_time": "2025-02-05T12:16:25.225242",
     "status": "completed"
    },
    "tags": []
   },
   "source": [
    "### Part 3. Plot the values"
   ]
  },
  {
   "cell_type": "markdown",
   "id": "2e5be34e",
   "metadata": {
    "id": "jyXfWQTS8pF0",
    "papermill": {
     "duration": 0.003498,
     "end_time": "2025-02-05T12:16:25.236104",
     "exception": false,
     "start_time": "2025-02-05T12:16:25.232606",
     "status": "completed"
    },
    "tags": []
   },
   "source": [
    "Now that we have performed K-means with both sklearn and cuML, we can clearly see that there is a huge difference in the time taken in both cases. Let us plot these values to see if we can find a trend!"
   ]
  },
  {
   "cell_type": "code",
   "execution_count": 5,
   "id": "d3301542",
   "metadata": {
    "execution": {
     "iopub.execute_input": "2025-02-05T12:16:25.244826Z",
     "iopub.status.busy": "2025-02-05T12:16:25.244096Z",
     "iopub.status.idle": "2025-02-05T12:16:25.484082Z",
     "shell.execute_reply": "2025-02-05T12:16:25.483152Z"
    },
    "id": "IDfUwZIR1yK-",
    "outputId": "0a4087bf-3c20-4242-fd93-e573a9b92759",
    "papermill": {
     "duration": 0.246056,
     "end_time": "2025-02-05T12:16:25.485883",
     "exception": false,
     "start_time": "2025-02-05T12:16:25.239827",
     "status": "completed"
    },
    "tags": []
   },
   "outputs": [
    {
     "data": {
      "image/png": "[encoded data removed]",
      "text/plain": [
       "<Figure size 640x480 with 1 Axes>"
      ]
     },
     "metadata": {},
     "output_type": "display_data"
    }
   ],
   "source": [
    "#X is number of lines of data in each data{0, 1, 2, 3, 4}.csv file\n",
    "import matplotlib.pyplot as plt\n",
    "X = [25000 , 63115, 200000, 300000, 1419554]\n",
    "y = pd_running_times\n",
    "z = cudf_running_times\n",
    "# Plotting both the curves simultaneously\n",
    "plt.plot(X, y,'--ro', label='pandas',)\n",
    "plt.plot(X, z,'--bo', label='cuDF')\n",
    "  \n",
    "# Naming the x-axis, y-axis and the whole graph\n",
    "plt.xlabel(\"Number of Lines\")\n",
    "plt.ylabel(\"Time in milliseconds\")\n",
    "plt.title(\"Run time for reading data using pandas and cuDF\")\n",
    "  \n",
    "plt.legend()\n",
    "plt.show()"
   ]
  },
  {
   "cell_type": "code",
   "execution_count": 6,
   "id": "912d710d",
   "metadata": {
    "execution": {
     "iopub.execute_input": "2025-02-05T12:16:25.495150Z",
     "iopub.status.busy": "2025-02-05T12:16:25.494612Z",
     "iopub.status.idle": "2025-02-05T12:16:25.757961Z",
     "shell.execute_reply": "2025-02-05T12:16:25.757169Z"
    },
    "id": "LvirsTtTylED",
    "outputId": "f8a3ad4b-6a47-4a2b-846c-bfa697eaff03",
    "papermill": {
     "duration": 0.270122,
     "end_time": "2025-02-05T12:16:25.760008",
     "exception": false,
     "start_time": "2025-02-05T12:16:25.489886",
     "status": "completed"
    },
    "tags": []
   },
   "outputs": [
    {
     "data": {
      "image/png": "[encoded data removed]",
      "text/plain": [
       "<Figure size 640x480 with 1 Axes>"
      ]
     },
     "metadata": {},
     "output_type": "display_data"
    }
   ],
   "source": [
    "y = sklearn_running_times\n",
    "z = cuml_running_times\n",
    "# Plotting both the curves simultaneously\n",
    "plt.plot(X, y,'--ro', label='sklearn',)\n",
    "plt.plot(X, z,'--bo', label='cuML')\n",
    "  \n",
    "# Naming the x-axis, y-axis and the whole graph\n",
    "plt.xlabel(\"Number of Lines\")\n",
    "plt.ylabel(\"Time in milliseconds\")\n",
    "plt.title(\"Run time for Kmeans using sklearn and cuml\")\n",
    "  \n",
    "plt.legend()\n",
    "plt.show()"
   ]
  }
 ],
 "metadata": {
  "accelerator": "GPU",
  "colab": {
   "collapsed_sections": [],
   "name": "Lab_25.ipynb",
   "provenance": []
  },
  "kaggle": {
   "accelerator": "nvidiaTeslaT4",
   "dataSources": [
    {
     "datasetId": 6154597,
     "sourceId": 9999237,
     "sourceType": "datasetVersion"
    }
   ],
   "dockerImageVersionId": 30787,
   "isGpuEnabled": true,
   "isInternetEnabled": true,
   "language": "python",
   "sourceType": "notebook"
  },
  "kernelspec": {
   "display_name": "Python 3",
   "language": "python",
   "name": "python3"
  },
  "language_info": {
   "codemirror_mode": {
    "name": "ipython",
    "version": 3
   },
   "file_extension": ".py",
   "mimetype": "text/x-python",
   "name": "python",
   "nbconvert_exporter": "python",
   "pygments_lexer": "ipython3",
   "version": "3.10.14"
  },
  "papermill": {
   "default_parameters": {},
   "duration": 41.793446,
   "end_time": "2025-02-05T12:16:27.085674",
   "environment_variables": {},
   "exception": null,
   "input_path": "__notebook__.ipynb",
   "output_path": "__notebook__.ipynb",
   "parameters": {},
   "start_time": "2025-02-05T12:15:45.292228",
   "version": "2.6.0"
  }
 },
 "nbformat": 4,
 "nbformat_minor": 5
}
